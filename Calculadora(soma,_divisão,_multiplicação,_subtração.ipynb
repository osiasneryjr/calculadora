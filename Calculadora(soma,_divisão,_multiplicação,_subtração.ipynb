{
  "nbformat": 4,
  "nbformat_minor": 0,
  "metadata": {
    "colab": {
      "provenance": [],
      "authorship_tag": "ABX9TyOPayWFEUb5NKgDixZcflHe",
      "include_colab_link": true
    },
    "kernelspec": {
      "name": "python3",
      "display_name": "Python 3"
    },
    "language_info": {
      "name": "python"
    }
  },
  "cells": [
    {
      "cell_type": "markdown",
      "metadata": {
        "id": "view-in-github",
        "colab_type": "text"
      },
      "source": [
        "<a href=\"https://colab.research.google.com/github/osiasneryjr/calculadora/blob/codespace-stunning-yodel-w6vp475v5rr296q4/Calculadora(soma%2C_divis%C3%A3o%2C_multiplica%C3%A7%C3%A3o%2C_subtra%C3%A7%C3%A3o.ipynb\" target=\"_parent\"><img src=\"https://colab.research.google.com/assets/colab-badge.svg\" alt=\"Open In Colab\"/></a>"
      ]
    },
    {
      "cell_type": "code",
      "execution_count": 1,
      "metadata": {
        "colab": {
          "base_uri": "https://localhost:8080/"
        },
        "id": "1OM2zblHkkRm",
        "outputId": "1faf0853-a840-47b6-bf89-4440ac23b255"
      },
      "outputs": [
        {
          "output_type": "stream",
          "name": "stdout",
          "text": [
            "\n",
            "Selecione a operação:\n",
            "1: Soma\n",
            "2: Subtração\n",
            "3: Multiplicação\n",
            "4: Divisão\n",
            "0: Sair\n",
            "Digite o número da operação desejada: 3\n",
            "Digite o primeiro valor: 8\n",
            "Digite o segundo valor: 5\n",
            "Resultado: 40.0\n",
            "\n",
            "Selecione a operação:\n",
            "1: Soma\n",
            "2: Subtração\n",
            "3: Multiplicação\n",
            "4: Divisão\n",
            "0: Sair\n",
            "Digite o número da operação desejada: 0\n",
            "Saindo da calculadora. Até logo!\n"
          ]
        }
      ],
      "source": [
        "def calculadora():\n",
        "    while True:\n",
        "        # Mostra as opções\n",
        "        print(\"\\nSelecione a operação:\")\n",
        "        print(\"1: Soma\")\n",
        "        print(\"2: Subtração\")\n",
        "        print(\"3: Multiplicação\")\n",
        "        print(\"4: Divisão\")\n",
        "        print(\"0: Sair\")\n",
        "\n",
        "        # Solicita a escolha do usuário\n",
        "        escolha = input(\"Digite o número da operação desejada: \")\n",
        "\n",
        "        # Verifica a escolha do usuário\n",
        "        if escolha == '0':\n",
        "            print(\"Saindo da calculadora. Até logo!\")\n",
        "            break\n",
        "        elif escolha in ('1', '2', '3', '4'):\n",
        "            # Solicita os valores\n",
        "            try:\n",
        "                num1 = float(input(\"Digite o primeiro valor: \"))\n",
        "                num2 = float(input(\"Digite o segundo valor: \"))\n",
        "            except ValueError:\n",
        "                print(\"Por favor, insira valores numéricos válidos.\")\n",
        "                continue\n",
        "\n",
        "            # Executa a operação selecionada\n",
        "            if escolha == '1':\n",
        "                resultado = num1 + num2\n",
        "            elif escolha == '2':\n",
        "                resultado = num1 - num2\n",
        "            elif escolha == '3':\n",
        "                resultado = num1 * num2\n",
        "            elif escolha == '4':\n",
        "                if num2 != 0:\n",
        "                    resultado = num1 / num2\n",
        "                else:\n",
        "                    print(\"Erro: Divisão por zero. Tente novamente.\")\n",
        "                    continue\n",
        "\n",
        "            # Mostra o resultado\n",
        "            print(\"Resultado: {}\".format(resultado))\n",
        "        else:\n",
        "            print(\"Essa opção não existe. Tente novamente.\")\n",
        "\n",
        "if __name__ == \"__main__\":\n",
        "    calculadora()\n"
      ]
    }
  ]
}