{
  "nbformat": 4,
  "nbformat_minor": 0,
  "metadata": {
    "colab": {
      "provenance": [],
      "authorship_tag": "ABX9TyNd4b0BgcPnyGGO55sJx5mf",
      "include_colab_link": true
    },
    "kernelspec": {
      "name": "python3",
      "display_name": "Python 3"
    },
    "language_info": {
      "name": "python"
    }
  },
  "cells": [
    {
      "cell_type": "markdown",
      "metadata": {
        "id": "view-in-github",
        "colab_type": "text"
      },
      "source": [
        "<a href=\"https://colab.research.google.com/github/osiasneryjr/calculadora/blob/codespace-stunning-yodel-w6vp475v5rr296q4/Nome_e_Idade.ipynb\" target=\"_parent\"><img src=\"https://colab.research.google.com/assets/colab-badge.svg\" alt=\"Open In Colab\"/></a>"
      ]
    },
    {
      "cell_type": "code",
      "execution_count": 1,
      "metadata": {
        "colab": {
          "base_uri": "https://localhost:8080/"
        },
        "id": "6YNbeAegrQhM",
        "outputId": "11d1b832-e3c2-4a39-a0bb-09e3e6d4270c"
      },
      "outputs": [
        {
          "output_type": "stream",
          "name": "stdout",
          "text": [
            "Digite seu nome completo: Osias Nery Junior\n",
            "Digite o ano de nascimento (1922-2021): 1978\n",
            "\n",
            "Nome: Osias Nery Junior\n",
            "Idade: 45\n"
          ]
        }
      ],
      "source": [
        "import datetime\n",
        "\n",
        "def obter_ano_nascimento():\n",
        "    while True:\n",
        "        try:\n",
        "            ano_nascimento = int(input(\"Digite o ano de nascimento (1922-2021): \"))\n",
        "            if 1922 <= ano_nascimento <= 2021:\n",
        "                return ano_nascimento\n",
        "            else:\n",
        "                print(\"Erro: O ano de nascimento deve estar entre 1922 e 2021. Tente novamente.\")\n",
        "        except ValueError:\n",
        "            print(\"Erro: Por favor, insira um ano válido.\")\n",
        "\n",
        "def calcular_idade(ano_nascimento):\n",
        "    ano_atual = datetime.datetime.now().year\n",
        "    idade = ano_atual - ano_nascimento\n",
        "    return idade\n",
        "\n",
        "def main():\n",
        "    nome_completo = input(\"Digite seu nome completo: \")\n",
        "\n",
        "    ano_nascimento = obter_ano_nascimento()\n",
        "\n",
        "    idade = calcular_idade(ano_nascimento)\n",
        "\n",
        "    print(\"\\nNome: {}\".format(nome_completo))\n",
        "    print(\"Idade: {}\".format(idade))\n",
        "\n",
        "if __name__ == \"__main__\":\n",
        "    main()\n"
      ]
    }
  ]
}